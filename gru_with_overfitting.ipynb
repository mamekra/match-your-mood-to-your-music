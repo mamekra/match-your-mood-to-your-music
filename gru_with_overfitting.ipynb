{
  "nbformat": 4,
  "nbformat_minor": 0,
  "metadata": {
    "colab": {
      "provenance": [],
      "gpuType": "T4",
      "authorship_tag": "ABX9TyN5TTpEdJo0PGyleW7Alz/Q",
      "include_colab_link": true
    },
    "kernelspec": {
      "name": "python3",
      "display_name": "Python 3"
    },
    "language_info": {
      "name": "python"
    },
    "accelerator": "GPU"
  },
  "cells": [
    {
      "cell_type": "markdown",
      "metadata": {
        "id": "view-in-github",
        "colab_type": "text"
      },
      "source": [
        "<a href=\"https://colab.research.google.com/github/mamekra/match-your-mood-to-your-music/blob/main/gru.ipynb\" target=\"_parent\"><img src=\"https://colab.research.google.com/assets/colab-badge.svg\" alt=\"Open In Colab\"/></a>"
      ]
    },
    {
      "cell_type": "code",
      "execution_count": 1,
      "metadata": {
        "colab": {
          "base_uri": "https://localhost:8080/"
        },
        "id": "CLkBp0VvBKiR",
        "outputId": "49292943-b760-458b-900f-545f72056fe7"
      },
      "outputs": [
        {
          "output_type": "stream",
          "name": "stdout",
          "text": [
            "GPU is available\n"
          ]
        }
      ],
      "source": [
        "# Import libraries\n",
        "import joblib\n",
        "import pandas as pd\n",
        "from tensorflow.keras.preprocessing.text import Tokenizer\n",
        "from tensorflow.keras.preprocessing.sequence import pad_sequences\n",
        "from tensorflow.keras.models import Sequential\n",
        "from tensorflow.keras.layers import Embedding, GRU, Dense, Dropout\n",
        "from tensorflow.keras.utils import to_categorical\n",
        "from sklearn.model_selection import train_test_split\n",
        "from tensorflow.keras.callbacks import EarlyStopping\n",
        "import tensorflow as tf\n",
        "\n",
        "print(\"GPU is\", \"available\" if tf.config.list_physical_devices(\"GPU\") else \"NOT AVAILABLE\")"
      ]
    },
    {
      "cell_type": "code",
      "source": [
        "# Set mixed precision policy\n",
        "policy = tf.keras.mixed_precision.Policy('mixed_float16')\n",
        "tf.keras.mixed_precision.set_global_policy(policy)\n",
        "\n",
        "# Load data\n",
        "DATA_PATH = 'labeled_songs.csv'\n",
        "data = pd.read_csv(DATA_PATH)\n",
        "\n",
        "# Extract cleaned lyrics and emotion labels\n",
        "lyrics = data['cleaned_lyrics']\n",
        "emotions = data['emotion']"
      ],
      "metadata": {
        "id": "7xNzBNDjBiM_"
      },
      "execution_count": 2,
      "outputs": []
    },
    {
      "cell_type": "code",
      "source": [
        "# Encode emotions\n",
        "emotion_classes = sorted(emotions.unique())\n",
        "emotion_to_int = {emotion: i for i, emotion in enumerate(emotion_classes)}\n",
        "data['emotion_encoded'] = data['emotion'].map(emotion_to_int)\n",
        "\n"
      ],
      "metadata": {
        "id": "VMv9nYEQ5Yl1"
      },
      "execution_count": 3,
      "outputs": []
    },
    {
      "cell_type": "code",
      "source": [
        "# Tokenize lyrics\n",
        "tokenizer = Tokenizer(num_words=5000, oov_token='<OOV>')\n",
        "tokenizer.fit_on_texts(lyrics)\n",
        "sequences = tokenizer.texts_to_sequences(lyrics)\n",
        "\n"
      ],
      "metadata": {
        "id": "2c0Rlj_OEW2h"
      },
      "execution_count": 4,
      "outputs": []
    },
    {
      "cell_type": "code",
      "source": [
        "\n",
        "# Pad sequences\n",
        "max_sequence_length = 100\n",
        "padded_sequences = pad_sequences(sequences, maxlen=max_sequence_length, padding='post')\n",
        "\n",
        "# Prepare labels\n",
        "labels = to_categorical(data['emotion_encoded'], num_classes=len(emotion_classes))\n",
        "\n"
      ],
      "metadata": {
        "id": "dTEvI7odBl23"
      },
      "execution_count": 5,
      "outputs": []
    },
    {
      "cell_type": "code",
      "source": [
        "X_train, X_val, y_train, y_val = train_test_split(\n",
        "    padded_sequences, labels, test_size=0.2, random_state=42\n",
        ")\n",
        "\n",
        "\n"
      ],
      "metadata": {
        "id": "PEIFkddn_3Qo"
      },
      "execution_count": 6,
      "outputs": []
    },
    {
      "cell_type": "code",
      "source": [
        "from tensorflow.keras.layers import GRU, Bidirectional, Dropout, Dense, Embedding\n",
        "from tensorflow.keras.models import Sequential\n",
        "\n",
        "embedding_dim = 64\n",
        "\n",
        "from tensorflow.keras.regularizers import l2\n",
        "\n",
        "model = Sequential([\n",
        "    Embedding(input_dim=10000, output_dim=embedding_dim, input_length=max_sequence_length),\n",
        "    GRU(64),\n",
        "    Dropout(0.2),\n",
        "    Dense(len(emotion_classes), activation='softmax')\n",
        "])\n"
      ],
      "metadata": {
        "id": "hggFGBO_BpH3",
        "colab": {
          "base_uri": "https://localhost:8080/"
        },
        "outputId": "0b9f6df9-5430-4d68-ed6f-5abe1489b771"
      },
      "execution_count": 7,
      "outputs": [
        {
          "output_type": "stream",
          "name": "stderr",
          "text": [
            "/usr/local/lib/python3.10/dist-packages/keras/src/layers/core/embedding.py:90: UserWarning: Argument `input_length` is deprecated. Just remove it.\n",
            "  warnings.warn(\n"
          ]
        }
      ]
    },
    {
      "cell_type": "code",
      "source": [
        "\n",
        "# Compile the model\n",
        "optimizer = Adam(learning_rate=0.001)\n",
        "model.compile(optimizer=optimizer, loss='categorical_crossentropy', metrics=['accuracy'])\n"
      ],
      "metadata": {
        "id": "6OgB3YEbFBwK"
      },
      "execution_count": 8,
      "outputs": []
    },
    {
      "cell_type": "code",
      "source": [
        "# Add early stopping\n",
        "early_stopping = EarlyStopping(monitor='val_loss', patience=3, restore_best_weights=True)\n",
        "\n",
        "# Train the model\n",
        "history = model.fit(\n",
        "    X_train, y_train,\n",
        "    epochs=15,\n",
        "    batch_size=8,\n",
        "    validation_data=(X_val, y_val),\n",
        "    callbacks=[early_stopping]\n",
        ")\n"
      ],
      "metadata": {
        "id": "DKoDTDEuBqTv",
        "colab": {
          "base_uri": "https://localhost:8080/"
        },
        "outputId": "646b285c-ecb2-4231-b472-1ea88c4e5561"
      },
      "execution_count": 9,
      "outputs": [
        {
          "output_type": "stream",
          "name": "stdout",
          "text": [
            "Epoch 1/15\n",
            "\u001b[1m10000/10000\u001b[0m \u001b[32m━━━━━━━━━━━━━━━━━━━━\u001b[0m\u001b[37m\u001b[0m \u001b[1m103s\u001b[0m 9ms/step - accuracy: 0.6704 - loss: 0.8672 - val_accuracy: 0.7530 - val_loss: 0.6541\n",
            "Epoch 2/15\n",
            "\u001b[1m10000/10000\u001b[0m \u001b[32m━━━━━━━━━━━━━━━━━━━━\u001b[0m\u001b[37m\u001b[0m \u001b[1m136s\u001b[0m 10ms/step - accuracy: 0.7641 - loss: 0.6198 - val_accuracy: 0.7571 - val_loss: 0.6311\n",
            "Epoch 3/15\n",
            "\u001b[1m10000/10000\u001b[0m \u001b[32m━━━━━━━━━━━━━━━━━━━━\u001b[0m\u001b[37m\u001b[0m \u001b[1m140s\u001b[0m 9ms/step - accuracy: 0.7847 - loss: 0.5570 - val_accuracy: 0.7538 - val_loss: 0.6304\n",
            "Epoch 4/15\n",
            "\u001b[1m10000/10000\u001b[0m \u001b[32m━━━━━━━━━━━━━━━━━━━━\u001b[0m\u001b[37m\u001b[0m \u001b[1m95s\u001b[0m 10ms/step - accuracy: 0.7977 - loss: 0.5111 - val_accuracy: 0.7487 - val_loss: 0.6506\n",
            "Epoch 5/15\n",
            "\u001b[1m10000/10000\u001b[0m \u001b[32m━━━━━━━━━━━━━━━━━━━━\u001b[0m\u001b[37m\u001b[0m \u001b[1m143s\u001b[0m 10ms/step - accuracy: 0.8131 - loss: 0.4707 - val_accuracy: 0.7473 - val_loss: 0.6685\n",
            "Epoch 6/15\n",
            "\u001b[1m10000/10000\u001b[0m \u001b[32m━━━━━━━━━━━━━━━━━━━━\u001b[0m\u001b[37m\u001b[0m \u001b[1m138s\u001b[0m 9ms/step - accuracy: 0.8297 - loss: 0.4317 - val_accuracy: 0.7423 - val_loss: 0.6981\n"
          ]
        }
      ]
    },
    {
      "cell_type": "code",
      "source": [
        "# Evaluate the model\n",
        "results = model.evaluate(X_val, y_val)\n",
        "print(f\"Validation Loss: {results[0]}, Validation Accuracy: {results[1]}\")\n",
        "\n",
        "\n"
      ],
      "metadata": {
        "id": "ISJnA4UyBeQ5",
        "colab": {
          "base_uri": "https://localhost:8080/"
        },
        "outputId": "dbbaa21d-0b73-49d9-bd9b-ec74ae44091a"
      },
      "execution_count": 10,
      "outputs": [
        {
          "output_type": "stream",
          "name": "stdout",
          "text": [
            "\u001b[1m625/625\u001b[0m \u001b[32m━━━━━━━━━━━━━━━━━━━━\u001b[0m\u001b[37m\u001b[0m \u001b[1m2s\u001b[0m 3ms/step - accuracy: 0.7524 - loss: 0.6308\n",
            "Validation Loss: 0.6303509473800659, Validation Accuracy: 0.7537999749183655\n"
          ]
        }
      ]
    },
    {
      "cell_type": "code",
      "source": [
        "# Plot training and validation loss\n",
        "import matplotlib.pyplot as plt\n",
        "\n",
        "plt.plot(history.history['loss'], label='Training Loss')\n",
        "plt.plot(history.history['val_loss'], label='Validation Loss')\n",
        "plt.legend()\n",
        "plt.show()\n",
        "\n",
        "# Plot training and validation accuracy\n",
        "plt.plot(history.history['accuracy'], label='Training Accuracy')\n",
        "plt.plot(history.history['val_accuracy'], label='Validation Accuracy')\n",
        "plt.legend()\n",
        "plt.show()\n",
        "\n",
        "\n",
        "model.save('lstm_emotion_model.h5')"
      ],
      "metadata": {
        "id": "tpqelmybEcTo",
        "colab": {
          "base_uri": "https://localhost:8080/",
          "height": 881
        },
        "outputId": "bc7230db-0901-4209-d6df-46aa9bee61df"
      },
      "execution_count": 11,
      "outputs": [
        {
          "output_type": "display_data",
          "data": {
            "text/plain": [
              "<Figure size 640x480 with 1 Axes>"
            ],
            "image/png": "[encoded data removed]"
          },
          "metadata": {}
        },
        {
          "output_type": "display_data",
          "data": {
            "text/plain": [
              "<Figure size 640x480 with 1 Axes>"
            ],
            "image/png": "[encoded data removed]"
          },
          "metadata": {}
        },
        {
          "output_type": "stream",
          "name": "stderr",
          "text": [
            "WARNING:absl:You are saving your model as an HDF5 file via `model.save()` or `keras.saving.save_model(model)`. This file format is considered legacy. We recommend using instead the native Keras format, e.g. `model.save('my_model.keras')` or `keras.saving.save_model(model, 'my_model.keras')`. \n"
          ]
        }
      ]
    },
    {
      "cell_type": "code",
      "source": [
        "def recommend_song(emotion, model, tokenizer, data, emotion_to_int):\n",
        "    \"\"\"\n",
        "    Recommend a song based on the given emotion.\n",
        "    \"\"\"\n",
        "    emotion_index = emotion_to_int.get(emotion)\n",
        "    if emotion_index is None:\n",
        "        return f\"Emotion '{emotion}' not recognized.\"\n",
        "\n",
        "    # Filter songs with the given emotion\n",
        "    matching_songs = data[data['emotion_encoded'] == emotion_index]\n",
        "    if matching_songs.empty:\n",
        "        return f\"No songs found for emotion '{emotion}'.\"\n",
        "\n",
        "    # Randomly pick a matching song\n",
        "    song = matching_songs.sample(1).iloc[0]\n",
        "    return f\"Recommended song: {song['title']} by {song['artist']}\"\n",
        "\n",
        "\n",
        "\n"
      ],
      "metadata": {
        "id": "htO8JL4pBruf"
      },
      "execution_count": 12,
      "outputs": []
    },
    {
      "cell_type": "code",
      "source": [
        "\n",
        "# Test recommendation\n",
        "print(recommend_song('anger', model, tokenizer, data, emotion_to_int))"
      ],
      "metadata": {
        "id": "XNreQMBF0pW4",
        "colab": {
          "base_uri": "https://localhost:8080/"
        },
        "outputId": "8bd782d2-5fc0-423c-936b-44255427b92f"
      },
      "execution_count": 13,
      "outputs": [
        {
          "output_type": "stream",
          "name": "stdout",
          "text": [
            "Recommended song: Gibberish Rap by Hannibal Buress\n"
          ]
        }
      ]
    },
    {
      "cell_type": "code",
      "source": [
        "model.save('gru_emotion_model.h5')"
      ],
      "metadata": {
        "id": "Eym5pdb6L5cN",
        "colab": {
          "base_uri": "https://localhost:8080/"
        },
        "outputId": "cb6cd2ec-936f-4afb-8d2d-3cd1ba4beafe"
      },
      "execution_count": 14,
      "outputs": [
        {
          "output_type": "stream",
          "name": "stderr",
          "text": [
            "WARNING:absl:You are saving your model as an HDF5 file via `model.save()` or `keras.saving.save_model(model)`. This file format is considered legacy. We recommend using instead the native Keras format, e.g. `model.save('my_model.keras')` or `keras.saving.save_model(model, 'my_model.keras')`. \n"
          ]
        }
      ]
    }
  ]
}